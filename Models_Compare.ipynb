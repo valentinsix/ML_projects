{
 "cells": [
  {
   "cell_type": "markdown",
   "id": "a445c075-f134-4e4b-95fb-d6f8aa0995cc",
   "metadata": {},
   "source": [
    "# Import and clean data :"
   ]
  },
  {
   "cell_type": "code",
   "execution_count": 168,
   "id": "013b8779-282a-4142-a28c-dced7421a223",
   "metadata": {},
   "outputs": [
    {
     "name": "stdout",
     "output_type": "stream",
     "text": [
      "<bound method DataFrame.info of      Patient ID  Age     Sex  Cholesterol Blood Pressure  Heart Rate  \\\n",
      "0       BMW7812   67    Male          208         158/88          72   \n",
      "1       CZE1114   21    Male          389         165/93          98   \n",
      "2       BNI9906   21  Female          324         174/99          72   \n",
      "3       JLN3497   84    Male          383        163/100          73   \n",
      "4       GFO8847   66    Male          318          91/88          93   \n",
      "...         ...  ...     ...          ...            ...         ...   \n",
      "8758    MSV9918   60    Male          121          94/76          61   \n",
      "8759    QSV6764   28  Female          120        157/102          73   \n",
      "8760    XKA5925   47    Male          250         161/75         105   \n",
      "8761    EPE6801   36    Male          178         119/67          60   \n",
      "8762    ZWN9666   25  Female          356         138/67          75   \n",
      "\n",
      "      Diabetes  Family History  Smoking  Obesity  ...  \\\n",
      "0            0               0        1        0  ...   \n",
      "1            1               1        1        1  ...   \n",
      "2            1               0        0        0  ...   \n",
      "3            1               1        1        0  ...   \n",
      "4            1               1        1        1  ...   \n",
      "...        ...             ...      ...      ...  ...   \n",
      "8758         1               1        1        0  ...   \n",
      "8759         1               0        0        1  ...   \n",
      "8760         0               1        1        1  ...   \n",
      "8761         1               0        1        0  ...   \n",
      "8762         1               1        0        0  ...   \n",
      "\n",
      "      Sedentary Hours Per Day  Income        BMI  Triglycerides  \\\n",
      "0                    6.615001  261404  31.251233            286   \n",
      "1                    4.963459  285768  27.194973            235   \n",
      "2                    9.463426  235282  28.176571            587   \n",
      "3                    7.648981  125640  36.464704            378   \n",
      "4                    1.514821  160555  21.809144            231   \n",
      "...                       ...     ...        ...            ...   \n",
      "8758                10.806373  235420  19.655895             67   \n",
      "8759                 3.833038  217881  23.993866            617   \n",
      "8760                 2.375214   36998  35.406146            527   \n",
      "8761                 0.029104  209943  27.294020            114   \n",
      "8762                 9.005234  247338  32.914151            180   \n",
      "\n",
      "      Physical Activity Days Per Week  Sleep Hours Per Day         Country  \\\n",
      "0                                   0                    6       Argentina   \n",
      "1                                   1                    7          Canada   \n",
      "2                                   4                    4          France   \n",
      "3                                   3                    4          Canada   \n",
      "4                                   1                    5        Thailand   \n",
      "...                               ...                  ...             ...   \n",
      "8758                                7                    7        Thailand   \n",
      "8759                                4                    9          Canada   \n",
      "8760                                4                    4          Brazil   \n",
      "8761                                2                    8          Brazil   \n",
      "8762                                7                    4  United Kingdom   \n",
      "\n",
      "          Continent           Hemisphere  Heart Attack Risk  \n",
      "0     South America  Southern Hemisphere                  0  \n",
      "1     North America  Northern Hemisphere                  0  \n",
      "2            Europe  Northern Hemisphere                  0  \n",
      "3     North America  Northern Hemisphere                  0  \n",
      "4              Asia  Northern Hemisphere                  0  \n",
      "...             ...                  ...                ...  \n",
      "8758           Asia  Northern Hemisphere                  0  \n",
      "8759  North America  Northern Hemisphere                  0  \n",
      "8760  South America  Southern Hemisphere                  1  \n",
      "8761  South America  Southern Hemisphere                  0  \n",
      "8762         Europe  Northern Hemisphere                  1  \n",
      "\n",
      "[8763 rows x 26 columns]>\n"
     ]
    }
   ],
   "source": [
    "import pandas as pd\n",
    "\n",
    "file_path = \"./datasets/dataset.csv\"\n",
    "\n",
    "heart_disease = pd.read_csv(file_path)\n",
    "print(heart_disease.info)"
   ]
  },
  {
   "cell_type": "code",
   "execution_count": 169,
   "id": "6bf06648-c74c-4648-9974-e2b16a7bf70b",
   "metadata": {},
   "outputs": [
    {
     "name": "stdout",
     "output_type": "stream",
     "text": [
      "Heart Attack Risk\n",
      "0    5624\n",
      "1    3139\n",
      "Name: count, dtype: int64\n"
     ]
    }
   ],
   "source": [
    "print(heart_disease['Heart Attack Risk'].value_counts())"
   ]
  },
  {
   "cell_type": "code",
   "execution_count": 170,
   "id": "9633d3a5-289a-4849-ae8a-a40865332f74",
   "metadata": {},
   "outputs": [
    {
     "name": "stdout",
     "output_type": "stream",
     "text": [
      "0       0\n",
      "1       0\n",
      "2       0\n",
      "3       0\n",
      "4       0\n",
      "       ..\n",
      "8758    0\n",
      "8759    0\n",
      "8760    1\n",
      "8761    0\n",
      "8762    1\n",
      "Name: Heart Attack Risk, Length: 8763, dtype: int64\n",
      "  Patient ID  Age     Sex  Cholesterol  Heart Rate  Diabetes  Family History  \\\n",
      "0    BMW7812   67    Male          208          72         0               0   \n",
      "1    CZE1114   21    Male          389          98         1               1   \n",
      "2    BNI9906   21  Female          324          72         1               0   \n",
      "3    JLN3497   84    Male          383          73         1               1   \n",
      "4    GFO8847   66    Male          318          93         1               1   \n",
      "\n",
      "   Smoking  Obesity  Alcohol Consumption  ...  Medication Use Stress Level  \\\n",
      "0        1        0                    0  ...               0            9   \n",
      "1        1        1                    1  ...               0            1   \n",
      "2        0        0                    0  ...               1            9   \n",
      "3        1        0                    1  ...               0            9   \n",
      "4        1        1                    0  ...               0            6   \n",
      "\n",
      "   Sedentary Hours Per Day  Income        BMI  Triglycerides  \\\n",
      "0                 6.615001  261404  31.251233            286   \n",
      "1                 4.963459  285768  27.194973            235   \n",
      "2                 9.463426  235282  28.176571            587   \n",
      "3                 7.648981  125640  36.464704            378   \n",
      "4                 1.514821  160555  21.809144            231   \n",
      "\n",
      "   Physical Activity Days Per Week  Sleep Hours Per Day      Continent  \\\n",
      "0                                0                    6  South America   \n",
      "1                                1                    7  North America   \n",
      "2                                4                    4         Europe   \n",
      "3                                3                    4  North America   \n",
      "4                                1                    5           Asia   \n",
      "\n",
      "            Hemisphere  \n",
      "0  Southern Hemisphere  \n",
      "1  Northern Hemisphere  \n",
      "2  Northern Hemisphere  \n",
      "3  Northern Hemisphere  \n",
      "4  Northern Hemisphere  \n",
      "\n",
      "[5 rows x 23 columns]\n"
     ]
    }
   ],
   "source": [
    "y = heart_disease[\"Heart Attack Risk\"]\n",
    "print(y)\n",
    "\n",
    "dropped_columns = [\"Country\",\"Blood Pressure\",\"Heart Attack Risk\"]\n",
    "X = heart_disease.drop(dropped_columns,axis=1)\n",
    "print(X.head())\n",
    "\n"
   ]
  },
  {
   "cell_type": "code",
   "execution_count": 171,
   "id": "1badc258-c36d-4b16-bd16-05b5265f25a3",
   "metadata": {},
   "outputs": [
    {
     "data": {
      "text/plain": [
       "False"
      ]
     },
     "execution_count": 171,
     "metadata": {},
     "output_type": "execute_result"
    }
   ],
   "source": [
    "X.isnull().values.any()"
   ]
  },
  {
   "cell_type": "code",
   "execution_count": 172,
   "id": "213ffdd2-f3b2-4234-b78f-1e3f42a4055e",
   "metadata": {},
   "outputs": [
    {
     "name": "stdout",
     "output_type": "stream",
     "text": [
      "      Patient ID   Age  Sex  Cholesterol  Heart Rate  Diabetes  \\\n",
      "0          521.0  49.0  1.0         88.0        32.0       0.0   \n",
      "1          998.0   3.0  1.0        269.0        58.0       1.0   \n",
      "2          529.0   3.0  0.0        204.0        32.0       1.0   \n",
      "3         3160.0  66.0  1.0        263.0        33.0       1.0   \n",
      "4         2083.0  48.0  1.0        198.0        53.0       1.0   \n",
      "...          ...   ...  ...          ...         ...       ...   \n",
      "8758      4228.0  42.0  1.0          1.0        21.0       1.0   \n",
      "8759      5502.0  10.0  0.0          0.0        33.0       1.0   \n",
      "8760      7837.0  29.0  1.0        130.0        65.0       0.0   \n",
      "8761      1552.0  18.0  1.0         58.0        20.0       1.0   \n",
      "8762      8719.0   7.0  0.0        236.0        35.0       1.0   \n",
      "\n",
      "      Family History  Smoking  Obesity  Alcohol Consumption  ...  \\\n",
      "0                0.0      1.0      0.0                  0.0  ...   \n",
      "1                1.0      1.0      1.0                  1.0  ...   \n",
      "2                0.0      0.0      0.0                  0.0  ...   \n",
      "3                1.0      1.0      0.0                  1.0  ...   \n",
      "4                1.0      1.0      1.0                  0.0  ...   \n",
      "...              ...      ...      ...                  ...  ...   \n",
      "8758             1.0      1.0      0.0                  1.0  ...   \n",
      "8759             0.0      0.0      1.0                  0.0  ...   \n",
      "8760             1.0      1.0      1.0                  1.0  ...   \n",
      "8761             0.0      1.0      0.0                  0.0  ...   \n",
      "8762             1.0      0.0      0.0                  1.0  ...   \n",
      "\n",
      "      Medication Use  Stress Level  Sedentary Hours Per Day  Income     BMI  \\\n",
      "0                0.0           8.0                   4871.0  7481.0  5375.0   \n",
      "1                0.0           0.0                   3637.0  8187.0  3723.0   \n",
      "2                1.0           8.0                   6884.0  6700.0  4140.0   \n",
      "3                0.0           8.0                   5644.0  3282.0  7416.0   \n",
      "4                0.0           5.0                   1112.0  4385.0  1534.0   \n",
      "...              ...           ...                      ...     ...     ...   \n",
      "8758             1.0           7.0                   7884.0  6702.0   634.0   \n",
      "8759             0.0           7.0                   2781.0  6181.0  2423.0   \n",
      "8760             0.0           4.0                   1696.0   546.0  6982.0   \n",
      "8761             1.0           4.0                     15.0  5948.0  3767.0   \n",
      "8762             0.0           7.0                   6565.0  7061.0  6011.0   \n",
      "\n",
      "      Triglycerides  Physical Activity Days Per Week  Sleep Hours Per Day  \\\n",
      "0             256.0                              0.0                  2.0   \n",
      "1             205.0                              1.0                  3.0   \n",
      "2             557.0                              4.0                  0.0   \n",
      "3             348.0                              3.0                  0.0   \n",
      "4             201.0                              1.0                  1.0   \n",
      "...             ...                              ...                  ...   \n",
      "8758           37.0                              7.0                  3.0   \n",
      "8759          587.0                              4.0                  5.0   \n",
      "8760          497.0                              4.0                  0.0   \n",
      "8761           84.0                              2.0                  4.0   \n",
      "8762          150.0                              7.0                  0.0   \n",
      "\n",
      "      Continent  Hemisphere  \n",
      "0           5.0         1.0  \n",
      "1           4.0         0.0  \n",
      "2           3.0         0.0  \n",
      "3           4.0         0.0  \n",
      "4           1.0         0.0  \n",
      "...         ...         ...  \n",
      "8758        1.0         0.0  \n",
      "8759        4.0         0.0  \n",
      "8760        5.0         1.0  \n",
      "8761        5.0         1.0  \n",
      "8762        3.0         0.0  \n",
      "\n",
      "[8763 rows x 23 columns]\n"
     ]
    }
   ],
   "source": [
    "from sklearn.pipeline import Pipeline\n",
    "from sklearn.preprocessing import OrdinalEncoder\n",
    "from sklearn.preprocessing import StandardScaler\n",
    "\n",
    "pipeline = Pipeline(steps=[\n",
    "    (\"encoder\", OrdinalEncoder())\n",
    "])\n",
    "\n",
    "X_trans = pipeline.fit_transform(X)\n",
    "X_trans = pd.DataFrame(X_trans,columns=kept_columns)\n",
    "print(X_trans)"
   ]
  },
  {
   "cell_type": "code",
   "execution_count": 173,
   "id": "3b563f5c-33ee-4761-93eb-f2161350a967",
   "metadata": {},
   "outputs": [],
   "source": [
    "from sklearn.model_selection import train_test_split\n",
    "\n",
    "X_train, X_test, y_train, y_test = train_test_split(X_trans, y, test_size=0.2, random_state=0)"
   ]
  },
  {
   "cell_type": "markdown",
   "id": "c6cf3a81-0dcc-4bd3-9072-14ea78fc3f45",
   "metadata": {},
   "source": [
    "## KNeighborsClassifier :"
   ]
  },
  {
   "cell_type": "code",
   "execution_count": 174,
   "id": "f4a88fd7-2916-4ab2-86d3-b236d5e52d7c",
   "metadata": {},
   "outputs": [
    {
     "name": "stdout",
     "output_type": "stream",
     "text": [
      "Accuracy for 5 neighbors : 0.5596120935539076\n",
      "Accuracy for 10 neighbors : 0.6018254420992584\n",
      "Accuracy for 15 neighbors : 0.6058185966913862\n",
      "Accuracy for 20 neighbors : 0.6223616657159156\n",
      "Accuracy for 25 neighbors : 0.6160867084997148\n",
      "Accuracy for 30 neighbors : 0.6269252709640616\n",
      "Accuracy for 35 neighbors : 0.6240730176839704\n",
      "Accuracy for 40 neighbors : 0.6320593268682259\n",
      "Accuracy for 45 neighbors : 0.6309184255561894\n",
      "Accuracy for 50 neighbors : 0.6309184255561894\n",
      "Accuracy for 55 neighbors : 0.6360524814603536\n",
      "Accuracy for 60 neighbors : 0.6371933827723902\n",
      "Accuracy for 65 neighbors : 0.638904734740445\n",
      "Accuracy for 70 neighbors : 0.6360524814603536\n",
      "Accuracy for 75 neighbors : 0.6371933827723902\n",
      "Accuracy for 80 neighbors : 0.6371933827723902\n",
      "Accuracy for 85 neighbors : 0.6366229321163719\n",
      "Accuracy for 90 neighbors : 0.6354820308043354\n",
      "Accuracy for 95 neighbors : 0.6360524814603536\n",
      "Accuracy for 100 neighbors : 0.6360524814603536\n",
      "Accuracy for 105 neighbors : 0.6360524814603536\n",
      "Accuracy for 110 neighbors : 0.6354820308043354\n",
      "Accuracy for 115 neighbors : 0.6360524814603536\n",
      "Accuracy for 120 neighbors : 0.6360524814603536\n",
      "Accuracy for 125 neighbors : 0.6360524814603536\n",
      "Accuracy for 130 neighbors : 0.6360524814603536\n",
      "Accuracy for 135 neighbors : 0.6360524814603536\n",
      "Accuracy for 140 neighbors : 0.6354820308043354\n",
      "Accuracy for 145 neighbors : 0.6354820308043354\n",
      "Accuracy for 150 neighbors : 0.6354820308043354\n",
      "Accuracy for 155 neighbors : 0.6354820308043354\n",
      "Accuracy for 160 neighbors : 0.6354820308043354\n",
      "Accuracy for 165 neighbors : 0.6354820308043354\n",
      "Accuracy for 170 neighbors : 0.6354820308043354\n",
      "Accuracy for 175 neighbors : 0.6354820308043354\n",
      "Accuracy for 180 neighbors : 0.6354820308043354\n",
      "Accuracy for 185 neighbors : 0.6354820308043354\n",
      "Accuracy for 190 neighbors : 0.6354820308043354\n",
      "Accuracy for 195 neighbors : 0.6354820308043354\n",
      "\n",
      " The optimal number of neighbors is 65 with an accuracy of 0.638904734740445 \n",
      "\n",
      "Run time : 5 seconds\n"
     ]
    },
    {
     "data": {
      "image/png": "[encoded data removed]",
      "text/plain": [
       "<Figure size 640x480 with 1 Axes>"
      ]
     },
     "metadata": {},
     "output_type": "display_data"
    }
   ],
   "source": [
    "from sklearn.neighbors import KNeighborsClassifier\n",
    "from sklearn.metrics import accuracy_score\n",
    "from matplotlib import pyplot as plt\n",
    "import numpy as np\n",
    "from datetime import datetime as dt\n",
    "\n",
    "start = dt.now()\n",
    "n_neighbors = list(range(5,200,5))\n",
    "acc_list=[]\n",
    "max_acc_knn = 0\n",
    "best_neighbor_knn = 0\n",
    "\n",
    "for i in n_neighbors:\n",
    "    model_1 = KNeighborsClassifier(n_neighbors=i)\n",
    "    model_1.fit(X_train,y_train)\n",
    "    prediction_1 = model_1.predict(X_test)\n",
    "    accuracy = accuracy_score(prediction_1, y_test)\n",
    "    if accuracy > max_acc_knn :\n",
    "        max_acc_knn = accuracy\n",
    "        best_neighbor_knn = i\n",
    "    acc_list.append(accuracy)\n",
    "    print(f\"Accuracy for {i} neighbors : {accuracy}\")\n",
    "\n",
    "print(f\"\\n The optimal number of neighbors is {best_neighbor_knn} with an accuracy of {max_acc_knn} \\n\")\n",
    "\n",
    "\n",
    "running_secs = (dt.now() - start).seconds\n",
    "print(f\"Run time : {running_secs} seconds\")\n",
    "\n",
    "plt.xlabel(\"Number of Neighbors\")\n",
    "plt.ylabel(\"Accuracy\")\n",
    "plt.plot(n_neighbors, acc_list)\n",
    "plt.show()\n"
   ]
  },
  {
   "cell_type": "code",
   "execution_count": 175,
   "id": "92244ee3-4ec7-45ce-8592-b80e58c8771c",
   "metadata": {},
   "outputs": [
    {
     "name": "stdout",
     "output_type": "stream",
     "text": [
      "0    1743\n",
      "1      10\n",
      "Name: count, dtype: int64\n"
     ]
    }
   ],
   "source": [
    "model_1 = KNeighborsClassifier(n_neighbors=65)\n",
    "model_1.fit(X_train,y_train)\n",
    "prediction_1 = model_1.predict(X_test)\n",
    "print(pd.Series(prediction_1).value_counts())"
   ]
  },
  {
   "cell_type": "code",
   "execution_count": 176,
   "id": "2ee6035b-a50b-4416-a69d-779b628fb33c",
   "metadata": {},
   "outputs": [
    {
     "name": "stdout",
     "output_type": "stream",
     "text": [
      "[[5608 3110]\n",
      " [  16   29]]\n",
      "0.6432728517630948\n"
     ]
    }
   ],
   "source": [
    "from sklearn.metrics import confusion_matrix\n",
    "\n",
    "model_2 = KNeighborsClassifier(n_neighbors=65)\n",
    "model_2.fit(X_train,y_train)\n",
    "prediction_2 = model_2.predict(X_trans)\n",
    "\n",
    "\n",
    "cm = confusion_matrix(prediction_2, y)\n",
    "print(cm)\n",
    "print(accuracy_score(prediction_2, y))"
   ]
  },
  {
   "cell_type": "markdown",
   "id": "beb57582-6dfe-4891-b8f0-528d7d05cf15",
   "metadata": {},
   "source": [
    "## Gradient Boost Classifier : "
   ]
  },
  {
   "cell_type": "code",
   "execution_count": 177,
   "id": "0ddf513d-c656-40dc-bbe5-22e3ff9dec6e",
   "metadata": {},
   "outputs": [
    {
     "name": "stdout",
     "output_type": "stream",
     "text": [
      "Accuracy with 50 estimators : 0.6349115801483172\n",
      "Accuracy with 70 estimators : 0.6326297775242442\n",
      "Accuracy with 90 estimators : 0.6332002281802624\n",
      "Accuracy with 110 estimators : 0.6314888762122076\n",
      "Accuracy with 130 estimators : 0.6297775242441529\n",
      "Accuracy with 150 estimators : 0.6292070735881347\n",
      "Accuracy with 170 estimators : 0.6297775242441529\n",
      "Accuracy with 190 estimators : 0.6309184255561894\n",
      "Accuracy with 210 estimators : 0.6297775242441529\n",
      "Accuracy with 230 estimators : 0.6292070735881347\n",
      "\n",
      " The optimal number of estimators is 50 with an accuracy of 0.6349115801483172 \n",
      "\n",
      "Run time : 36 seconds\n"
     ]
    },
    {
     "data": {
      "image/png": "[encoded data removed]",
      "text/plain": [
       "<Figure size 640x480 with 1 Axes>"
      ]
     },
     "metadata": {},
     "output_type": "display_data"
    }
   ],
   "source": [
    "from sklearn.ensemble import GradientBoostingClassifier\n",
    "\n",
    "start = dt.now()\n",
    "acc_list=[]\n",
    "est_list=[]\n",
    "max_acc_gb=0\n",
    "best_estimator_gb=0\n",
    "\n",
    "\n",
    "for i in range(50,250,20):\n",
    "    model_2 = GradientBoostingClassifier(random_state=0,n_estimators = i)\n",
    "    model_2.fit(X_train,y_train)\n",
    "    prediction_2 = model_2.predict(X_test)\n",
    "    accuracy = accuracy_score(prediction_2, y_test)\n",
    "    if accuracy > max_acc_gb :\n",
    "        max_acc_gb = accuracy\n",
    "        best_estimator_gb = i\n",
    "    acc_list.append(accuracy)\n",
    "    est_list.append(i)\n",
    "    print(f\"Accuracy with {i} estimators : {accuracy}\")\n",
    "\n",
    "print(f\"\\n The optimal number of estimators is {best_estimator_gb} with an accuracy of {max_acc_gb} \\n\")\n",
    "\n",
    "running_secs = (dt.now() - start).seconds\n",
    "print(f\"Run time : {running_secs} seconds\")\n",
    "\n",
    "plt.plot(est_list,acc_list)\n",
    "plt.show()"
   ]
  },
  {
   "cell_type": "markdown",
   "id": "df3ae454-a696-47ca-8e5e-229abcbbcc14",
   "metadata": {},
   "source": [
    "## Random Forest Classifier : "
   ]
  },
  {
   "cell_type": "code",
   "execution_count": 178,
   "id": "09e961f1-01a8-4ae5-89ae-4acb2cd90b18",
   "metadata": {},
   "outputs": [
    {
     "name": "stdout",
     "output_type": "stream",
     "text": [
      "Accuracy with 10 estimators : 0.5978322875071307\n",
      "Accuracy with 30 estimators : 0.6263548203080433\n",
      "Accuracy with 50 estimators : 0.6332002281802624\n",
      "Accuracy with 70 estimators : 0.6320593268682259\n",
      "Accuracy with 90 estimators : 0.6343411294922989\n",
      "Accuracy with 110 estimators : 0.6366229321163719\n",
      "Accuracy with 130 estimators : 0.6354820308043354\n",
      "Accuracy with 150 estimators : 0.6360524814603536\n",
      "Accuracy with 170 estimators : 0.6349115801483172\n",
      "Accuracy with 190 estimators : 0.6354820308043354\n",
      "Accuracy with 210 estimators : 0.6343411294922989\n",
      "Accuracy with 230 estimators : 0.6349115801483172\n",
      "\n",
      " The optimal number of estimators is 110 with an accuracy of 0.6366229321163719 \n",
      "\n",
      "Run time : 24 seconds\n"
     ]
    },
    {
     "data": {
      "image/png": "[encoded data removed]",
      "text/plain": [
       "<Figure size 640x480 with 1 Axes>"
      ]
     },
     "metadata": {},
     "output_type": "display_data"
    }
   ],
   "source": [
    "from sklearn.ensemble import RandomForestClassifier\n",
    "\n",
    "start = dt.now()\n",
    "acc_list=[]\n",
    "est_list=[]\n",
    "max_acc_rf=0\n",
    "best_estimator_rf=0\n",
    "\n",
    "\n",
    "for i in range(10,250,20):\n",
    "    model_2 = RandomForestClassifier(random_state=0,n_estimators=i)\n",
    "    model_2.fit(X_train,y_train)\n",
    "    prediction_2 = model_2.predict(X_test)\n",
    "    accuracy = accuracy_score(prediction_2, y_test)\n",
    "    if accuracy > max_acc_rf :\n",
    "        max_acc_rf = accuracy\n",
    "        best_estimator_rf = i\n",
    "    acc_list.append(accuracy)\n",
    "    est_list.append(i)\n",
    "    print(f\"Accuracy with {i} estimators : {accuracy}\")\n",
    "\n",
    "print(f\"\\n The optimal number of estimators is {best_estimator_rf} with an accuracy of {max_acc_rf} \\n\")\n",
    "\n",
    "running_secs = (dt.now() - start).seconds\n",
    "print(f\"Run time : {running_secs} seconds\")\n",
    "\n",
    "plt.plot(est_list,acc_list)\n",
    "plt.show()"
   ]
  },
  {
   "cell_type": "markdown",
   "id": "c434dd4c-51c1-4015-a2c2-589a4e68a1ab",
   "metadata": {},
   "source": [
    "## Comparing the classification models : "
   ]
  },
  {
   "cell_type": "code",
   "execution_count": 192,
   "id": "6a4d7d84-30d9-4eb3-83c5-f00448d11983",
   "metadata": {},
   "outputs": [
    {
     "data": {
      "text/plain": [
       "<BarContainer object of 3 artists>"
      ]
     },
     "execution_count": 192,
     "metadata": {},
     "output_type": "execute_result"
    },
    {
     "data": {
      "image/png": "[encoded data removed]",
      "text/plain": [
       "<Figure size 640x480 with 1 Axes>"
      ]
     },
     "metadata": {},
     "output_type": "display_data"
    }
   ],
   "source": [
    "list_acc_models = [max_acc_knn,max_acc_gb,max_acc_rf]\n",
    "list_models_name=[\"KNN\",\"Gradient Boost\",\"Random Forest\"]\n",
    "\n",
    "plt.xlabel(\"Classification models\")\n",
    "plt.ylabel(\"Best achieved accuracy\")\n",
    "plt.bar(height=list_acc_models, x=list_models_name, width=0.5)"
   ]
  }
 ],
 "metadata": {
  "kernelspec": {
   "display_name": "Python 3 (ipykernel)",
   "language": "python",
   "name": "python3"
  },
  "language_info": {
   "codemirror_mode": {
    "name": "ipython",
    "version": 3
   },
   "file_extension": ".py",
   "mimetype": "text/x-python",
   "name": "python",
   "nbconvert_exporter": "python",
   "pygments_lexer": "ipython3",
   "version": "3.11.0"
  }
 },
 "nbformat": 4,
 "nbformat_minor": 5
}
